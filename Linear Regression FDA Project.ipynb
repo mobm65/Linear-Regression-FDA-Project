{
 "cells": [
  {
   "cell_type": "markdown",
   "metadata": {},
   "source": [
    "## PREDICTING WIND TURBINE POWER OUTPUT FROM WIND SPEED VALUES \n",
    "## using LINEAR REGRESSION"
   ]
  },
  {
   "cell_type": "markdown",
   "metadata": {},
   "source": [
    "#### Objectives\n",
    "##### 1 Perform linear regression on the dataset.\n",
    "##### 2 Explain what this shows.\n",
    "##### 3 Predict wind speed power output from wind speed values."
   ]
  },
  {
   "cell_type": "markdown",
   "metadata": {},
   "source": [
    "#### SOURCES\n",
    "\n",
    "https://www.w3schools.com/python/python_ml_linear_regression.asp\n",
    "    \n",
    "https://realpython.com/linear-regression-in-python/#regression\n",
    "    \n",
    "https://scikit-learn.org/stable/auto_examples/linear_model/plot_ols.html\n",
    "\n",
    "https://www.oreilly.com/library/view/machine-learning-with/9781491989371/ch01.html\n",
    "Tranforming data from list to array."
   ]
  },
  {
   "cell_type": "markdown",
   "metadata": {},
   "source": [
    "\n",
    "\n",
    "\n",
    "### IMPORTING AND PLOTTING THE DATASET"
   ]
  },
  {
   "cell_type": "code",
   "execution_count": null,
   "metadata": {},
   "outputs": [],
   "source": [
    "# importing library and dataset.\n",
    "import pandas as pd\n",
    "\n",
    "dfpower = pd.read_csv(\"https://raw.githubusercontent.com/ianmcloughlin/2020A-machstat-project/master/dataset/powerproduction.csv\")\n",
    "\n",
    "# examining what type is our data.\n",
    "dfpower.dtypes\n"
   ]
  },
  {
   "cell_type": "code",
   "execution_count": null,
   "metadata": {},
   "outputs": [],
   "source": [
    "# looking at the heads and ends of dataset.\n",
    "print(dfpower)"
   ]
  },
  {
   "cell_type": "code",
   "execution_count": null,
   "metadata": {},
   "outputs": [],
   "source": [
    "# import libraries\n",
    "import matplotlib.pyplot as plt\n",
    "import numpy as np\n",
    "\n",
    "# x = speed, y= power\n",
    "x = dfpower.iloc[:,[0]]\n",
    "y = dfpower.iloc[:,[1]]\n",
    "\n",
    "# plot each (x,y) dot on graph.\n",
    "plt.style.use(\"ggplot\")\n",
    "plt.rcParams[\"figure.figsize\"] = (18,10)\n",
    "plt.title(\"Wind Turbine Power\")\n",
    "plt.xlabel(\"Speed\")\n",
    "plt.ylabel(\"Power\")\n",
    "plt.plot(x, y, '.')"
   ]
  },
  {
   "cell_type": "markdown",
   "metadata": {},
   "source": [
    "\n",
    "\n",
    "\n",
    "### USING SKLEARN LINEARREGRESSION TO FIND THE RELATIONSHIP BETWEEN X & Y - Objective 1"
   ]
  },
  {
   "cell_type": "code",
   "execution_count": null,
   "metadata": {},
   "outputs": [],
   "source": [
    "# import library\n",
    "from sklearn.linear_model import LinearRegression\n",
    "\n",
    "# x = speed and y = power from the dataframe dfpower\n",
    "x = dfpower.iloc[:,[0]]\n",
    "y = dfpower.iloc[:,[1]]\n",
    "\n",
    "# create the variable model as the instance of LinearRegression\n",
    "model=LinearRegression()\n",
    "\n",
    "# call .fit on the model which calculates the optimal values of the \n",
    "# weights bo (the intercept of the y axis) and b1 (slope of the estimated\n",
    "# regression line)\n",
    "model.fit(x,y)\n",
    "\n",
    "# r_sq is the proportion of the variance for a dependent variable that may\n",
    "# be explained by the influence of independent variable(s)\n",
    "# calling .score returns the coefficient of determination (r_sq)\n",
    "r_sq = model.score(x,y)\n",
    "\n",
    "# the closer the coefficient of determination is to 1 the better the fit,\n",
    "# because it indicates a sum of squared residuals (SSR) is 0 which is perfect. \n",
    "print(\"coefficient of determination:\", r_sq)\n",
    "\n",
    "# .intercept is the intercept of y axis, bo\n",
    "print(\"intercept:\", model.intercept_)\n",
    "\n",
    "# .coef is the slope of regression line, b1.\n",
    "print(\"slope:\", model.coef_)"
   ]
  },
  {
   "cell_type": "code",
   "execution_count": null,
   "metadata": {},
   "outputs": [],
   "source": [
    "# we can now use the y intercept and the slope multiplied by each value\n",
    "# of x in turn to predict y (y_pred)\n",
    "y_pred = model.intercept_+ model.coef_ * x\n",
    "print(\"predicted response:\",y_pred)"
   ]
  },
  {
   "cell_type": "code",
   "execution_count": null,
   "metadata": {},
   "outputs": [],
   "source": [
    "\n",
    "# Plot outputs of the x and y values as red dots and the x and y_pred\n",
    "# as a blue line.\n",
    "plt.scatter(x, y,  color='red')\n",
    "plt.plot(x, y_pred, color='blue', linewidth=3)\n",
    "\n",
    "plt.title(\"Linear Regression on Wind Speed and Turbine Power\")\n",
    "plt.xlabel(\"Speed\")\n",
    "plt.ylabel(\"Power\")\n",
    "\n",
    "plt.show()"
   ]
  },
  {
   "cell_type": "markdown",
   "metadata": {},
   "source": [
    "\n",
    "\n",
    "\n",
    "### USING POLYFIT TO FIND THE RELATIONSHIP BETWEEN X & Y - Objective 1"
   ]
  },
  {
   "cell_type": "code",
   "execution_count": null,
   "metadata": {},
   "outputs": [],
   "source": [
    "# Using polyfit to find the relationship between the x and y variables\n",
    "import numpy as np\n",
    "\n",
    "# polyfit expects x to be a 1D vector, convert x to an np.array called speed_data_array.\n",
    "speed_data = dfpower[\"speed\"]\n",
    "print(\"Original List:\", speed_data)\n",
    "\n",
    "speed_data_array = np.array(speed_data)\n",
    "print(\"One-dimensional NumPy array: \", speed_data_array)\n",
    "\n",
    "# this will return an array which includes the coefficients; aka the intercept of y axis, bo and\n",
    "# the slope of regression line, b1.  These are the same figures as I produced using LinearRegression.\n",
    "np.polyfit(speed_data_array,y,1)\n"
   ]
  },
  {
   "cell_type": "code",
   "execution_count": null,
   "metadata": {},
   "outputs": [],
   "source": [
    "# Continuing data comparison method from Linear Regression Lecture.\n",
    "# As above the coeffs are produced by using polyfit to find the connection between x and y.\n",
    "# The coeffecients are the missing data from the equation of the line 4.9x - 13.9 = y\n",
    "coeffs = np.polyfit(speed_data_array,y,1)\n",
    "\n",
    "# This plots the original data\n",
    "plt.plot(speed_data_array,y,\".\", label=\"Data\")\n",
    "\n",
    "# This plots the best fit line.\n",
    "plt.plot(speed_data_array, coeffs[0]*speed_data_array+coeffs[1], \"-\",\"Bestfit\")\n",
    "\n",
    "# Again the plot is the same as the one produced using LinearRegression."
   ]
  },
  {
   "cell_type": "code",
   "execution_count": null,
   "metadata": {},
   "outputs": [],
   "source": [
    "# Calculating the cost of the line\n",
    "# Cost(m,c)= Σ(yi - mxi-c)² where m is the slope and c is the constant\n",
    "# This is the same idea as polyfit and produces the same results.\n",
    "\n",
    "# To use this method I have had to take the values of x/speed and y/power out of the dataframe and use\n",
    "# them as an array\n",
    "x_avg = np.mean(dfpower[\"speed\"])\n",
    "y_avg = np.mean(dfpower[\"power\"])\n",
    "\n",
    "# subtract the means from speed (x) and power (y)\n",
    "x_zero = dfpower[\"speed\"] - x_avg\n",
    "\n",
    "y_zero = dfpower[\"power\"] - y_avg\n",
    "\n",
    "\n",
    "# to calculate the best m (slope)\n",
    "#print(x_zero * y_zero)\n",
    "#print(np.sum(x_zero * y_zero))\n",
    "m = np.sum(x_zero * y_zero) / np.sum(x_zero * x_zero)\n",
    "\n",
    "c = y_avg - m * x_avg\n",
    "\n",
    "print(\"m is %8.6f and c is %6.6f.\" % (m,c))\n"
   ]
  },
  {
   "cell_type": "markdown",
   "metadata": {},
   "source": [
    "\n",
    "\n",
    "### INTERPRETING THE DATA - Objective 2"
   ]
  },
  {
   "cell_type": "markdown",
   "metadata": {},
   "source": [
    "Source  https://enerpower.ie/portfolio/wind-turbine-faq-ireland/\n",
    "    \n",
    "How strong does the wind have to blow for the wind turbines to work?\n",
    "\n",
    "\"Wind turbines typically start operating at wind speeds around Beaufort Force 3 \n",
    "(which is around 3-5 metres per second (m/s), or 8-12 miles per hour (mph). \n",
    "Turbines reach maximum power output at Beaufort 5 (around 11-14 m/s or 25-30 mph). \n",
    "At very high wind speeds, i.e. Beaufort Storm Force 10 winds, (around 24 m/s or 55 mph) \n",
    "or greater the wind turbines shut down to prevent excessive wear and tear. \n",
    "Since winds of this strength occur only for a handful of hours per year, \n",
    "very little energy is lost in high wind periods.\"\n",
    " \n",
    "The information contained in this faq, from a wind energy company Enerpower, shows us how to interpret\n",
    "our plot.  The illustrated data shows that no power is produced until the wind speed reaches \n",
    "8 mph, at 20-25 mph it has reached peak production and levels off.  Winds above 20 mph on our plot seem\n",
    "to indicate the best speed for producing power.  Higher wind speeds do not produce more power.  As the faq\n",
    "from Enerpower indicate, a turbine will turn itself off in storm force winds."
   ]
  }
 ],
 "metadata": {
  "kernelspec": {
   "display_name": "Python 3",
   "language": "python",
   "name": "python3"
  },
  "language_info": {
   "codemirror_mode": {
    "name": "ipython",
    "version": 3
   },
   "file_extension": ".py",
   "mimetype": "text/x-python",
   "name": "python",
   "nbconvert_exporter": "python",
   "pygments_lexer": "ipython3",
   "version": "3.8.3"
  }
 },
 "nbformat": 4,
 "nbformat_minor": 4
}
