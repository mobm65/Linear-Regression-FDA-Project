{
 "cells": [
  {
   "cell_type": "markdown",
   "metadata": {},
   "source": [
    "## PREDICTING WIND TURBINE POWER OUTPUT FROM WIND SPEED VALUES \n",
    "## using LINEAR REGRESSION"
   ]
  },
  {
   "cell_type": "markdown",
   "metadata": {},
   "source": [
    "#### Objectives\n",
    "##### 1 Perform linear regression on the dataset.\n",
    "##### 2 Explain what this shows.\n",
    "##### 3 Predict wind speed power output from wind speed values."
   ]
  },
  {
   "cell_type": "markdown",
   "metadata": {},
   "source": [
    "#### SOURCES\n",
    "\n",
    "https://www.w3schools.com/python/python_ml_linear_regression.asp\n",
    "    \n",
    "https://realpython.com/linear-regression-in-python/#regression\n",
    "    \n",
    "https://scikit-learn.org/stable/auto_examples/linear_model/plot_ols.html\n",
    "\n",
    "    "
   ]
  },
  {
   "cell_type": "code",
   "execution_count": null,
   "metadata": {},
   "outputs": [],
   "source": [
    "# importing library and dataset.\n",
    "import pandas as pd\n",
    "\n",
    "dfpower = pd.read_csv(\"https://raw.githubusercontent.com/ianmcloughlin/2020A-machstat-project/master/dataset/powerproduction.csv\")\n",
    "\n",
    "# examining what type is our data.\n",
    "dfpower.dtypes\n"
   ]
  },
  {
   "cell_type": "code",
   "execution_count": null,
   "metadata": {},
   "outputs": [],
   "source": [
    "# looking at the heads and ends of dataset.\n",
    "print(dfpower)"
   ]
  },
  {
   "cell_type": "code",
   "execution_count": null,
   "metadata": {},
   "outputs": [],
   "source": [
    "# import libraries\n",
    "import matplotlib.pyplot as plt\n",
    "import numpy as np\n",
    "\n",
    "# x = speed, y= power\n",
    "x = dfpower.iloc[:,[0]]\n",
    "y = dfpower.iloc[:,[1]]\n",
    "\n",
    "# plot each (x,y) dot on graph.\n",
    "plt.style.use(\"ggplot\")\n",
    "plt.rcParams[\"figure.figsize\"] = (18,10)\n",
    "plt.title(\"Wind Turbine Power\")\n",
    "plt.xlabel(\"Speed\")\n",
    "plt.ylabel(\"Power\")\n",
    "plt.plot(x, y, '.')"
   ]
  },
  {
   "cell_type": "code",
   "execution_count": null,
   "metadata": {},
   "outputs": [],
   "source": [
    "# Using polyfit to find the relationship between the x and y variables\n",
    "import numpy as np\n",
    "\n",
    "# polyfit expects x to be a 1D vector, trying to convert x to an np.array\n",
    "l = (dfpower.iloc[:,[0]])\n",
    "#print(\"Original List:\",l)\n",
    "x1 = np.array(l)\n",
    "#print(\"One-dimensional NumPy array: \",a)\n",
    "\n",
    "\n",
    "np.polyfit(x1,y,1)\n"
   ]
  },
  {
   "cell_type": "code",
   "execution_count": null,
   "metadata": {},
   "outputs": [],
   "source": [
    "# import library\n",
    "from sklearn.linear_model import LinearRegression\n",
    "\n",
    "# x = speed and y = power from the dataframe dfpower\n",
    "x = dfpower.iloc[:,[0]]\n",
    "y = dfpower.iloc[:,[1]]\n",
    "\n",
    "# create the variable model as the instance of LinearRegression\n",
    "model=LinearRegression()\n",
    "\n",
    "# call .fit on the model which calculates the optimal values of the \n",
    "# weights bo (the intercept of the y axis) and b1 (slope of the estimated\n",
    "# regression line)\n",
    "model.fit(x,y)\n",
    "\n",
    "# r_sq is the proportion of the variance for a dependent variable that may\n",
    "# be explained by the influence of independent variable(s)\n",
    "# calling .score returns the coefficient of determination (r_sq)\n",
    "r_sq = model.score(x,y)\n",
    "\n",
    "# the closer the coefficient of determination is to 1 the better the fit,\n",
    "# because it indicates a sum of squared residuals (SSR) is 0 which is perfect. \n",
    "print(\"coefficient of determination:\", r_sq)\n",
    "\n",
    "# .intercept is the intercept of y axis, bo\n",
    "print(\"intercept:\", model.intercept_)\n",
    "\n",
    "# .coef is the slope of regression line, b1.\n",
    "print(\"slope:\", model.coef_)"
   ]
  },
  {
   "cell_type": "code",
   "execution_count": null,
   "metadata": {},
   "outputs": [],
   "source": [
    "# we can now use the y intercept and the slope multiplied by each value\n",
    "# of x in turn to predict y (y_pred)\n",
    "y_pred = model.intercept_+ model.coef_ * x\n",
    "print(\"predicted response:\",y_pred)"
   ]
  },
  {
   "cell_type": "code",
   "execution_count": null,
   "metadata": {},
   "outputs": [],
   "source": [
    "\n",
    "# Plot outputs of the x and y values as red dots and the x and y_pred\n",
    "# as a blue line.\n",
    "plt.scatter(x, y,  color='red')\n",
    "plt.plot(x, y_pred, color='blue', linewidth=3)\n",
    "\n",
    "plt.title(\"Linear Regression on Wind Speed and Turbine Power\")\n",
    "plt.xlabel(\"Speed\")\n",
    "plt.ylabel(\"Power\")\n",
    "\n",
    "plt.show()"
   ]
  },
  {
   "cell_type": "code",
   "execution_count": null,
   "metadata": {},
   "outputs": [],
   "source": [
    "# Using polyfit to find the relationship between the x and y variables\n",
    "import numpy as np\n",
    "np.polyfit(x,y,1)"
   ]
  },
  {
   "cell_type": "code",
   "execution_count": null,
   "metadata": {},
   "outputs": [],
   "source": []
  }
 ],
 "metadata": {
  "kernelspec": {
   "display_name": "Python 3",
   "language": "python",
   "name": "python3"
  },
  "language_info": {
   "codemirror_mode": {
    "name": "ipython",
    "version": 3
   },
   "file_extension": ".py",
   "mimetype": "text/x-python",
   "name": "python",
   "nbconvert_exporter": "python",
   "pygments_lexer": "ipython3",
   "version": "3.8.3"
  }
 },
 "nbformat": 4,
 "nbformat_minor": 4
}
