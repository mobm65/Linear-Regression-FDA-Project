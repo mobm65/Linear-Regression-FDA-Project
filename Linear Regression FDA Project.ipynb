{
 "cells": [
  {
   "cell_type": "markdown",
   "metadata": {},
   "source": [
    "## PREDICTING WIND TURBINE POWER OUTPUT FROM WIND SPEED VALUES \n",
    "## using LINEAR REGRESSION"
   ]
  },
  {
   "cell_type": "markdown",
   "metadata": {},
   "source": [
    "#### Objectives\n",
    "##### 1 Perform linear regression on the dataset.\n",
    "##### 2 Explain what this shows.\n",
    "##### 3 Predict wind speed power output from wind speed values."
   ]
  },
  {
   "cell_type": "markdown",
   "metadata": {},
   "source": [
    "#### SOURCES\n",
    "\n",
    "https://www.w3schools.com/python/python_ml_linear_regression.asp\n",
    "I did the tutorial on this site and because you can see worked examples it\n",
    "is very helpful.  I used the LinearRegression method from this site for my\n",
    "first example and to find the R² value.\n",
    "    \n",
    "https://realpython.com/linear-regression-in-python/#regression\n",
    "I also did the tutorial in this site to gain a better understanding of the task.\n",
    "    \n",
    "https://scikit-learn.org/stable/auto_examples/linear_model/plot_ols.html\n",
    "This site has a example of linear regression which was useful to refer to.\n",
    "    \n",
    "https://scipy-lectures.org/packages/scikit-learn/index.html\n",
    "I did the first section of this tutorial about machine learning and the purposes\n",
    "of linear regression in training datasets.\n",
    "\n",
    "https://www.oreilly.com/library/view/machine-learning-with/9781491989371/ch01.html\n",
    "I used this site to help me tranform data from list to array.\n",
    "\n",
    "https://docs.scipy.org/doc/scipy/reference/generated/scipy.stats.pearsonr.html\n",
    "Scipy documentation on Pearson's r, not as helpful as the following site.\n",
    "      \n",
    "https://realpython.com/numpy-scipy-pandas-correlation-python\n",
    "I found and used information from this site about tests to correlate two variables.\n",
    "I used Pearson's r, Spearman's rho and Kendall's tau to measure the correlation between\n",
    "wind speed and power output.\n",
    "    \n",
    "https://www.w3schools.com/python/python_ml_polynomial_regression.asp\n",
    "I did this tutorial and again found it helpful to do some worked examples before doing my\n",
    "own in my Jupyter notebook."
   ]
  },
  {
   "cell_type": "markdown",
   "metadata": {},
   "source": [
    "\n",
    "\n",
    "##### Note\n",
    "The speed variable is sometimes referred to as x, when it is changed to a 1D array it is speed_data_array.\n",
    "The power variable is sometimes referred to as y, when it is changed to a 1D array it is power_data_array."
   ]
  },
  {
   "cell_type": "markdown",
   "metadata": {},
   "source": [
    "\n",
    "\n",
    "\n",
    "### IMPORTING AND PLOTTING THE DATASET"
   ]
  },
  {
   "cell_type": "code",
   "execution_count": null,
   "metadata": {},
   "outputs": [],
   "source": [
    "# importing library and dataset, which I call dfpower.\n",
    "import pandas as pd\n",
    "\n",
    "dfpower = pd.read_csv(\"https://raw.githubusercontent.com/ianmcloughlin/2020A-machstat-project/master/dataset/powerproduction.csv\")\n",
    "\n",
    "# examining what type is our data.\n",
    "dfpower.dtypes\n"
   ]
  },
  {
   "cell_type": "code",
   "execution_count": null,
   "metadata": {},
   "outputs": [],
   "source": [
    "# looking at the heads and ends of dataset.\n",
    "print(dfpower)"
   ]
  },
  {
   "cell_type": "code",
   "execution_count": null,
   "metadata": {},
   "outputs": [],
   "source": [
    "# import libraries\n",
    "import matplotlib.pyplot as plt\n",
    "import numpy as np\n",
    "\n",
    "# x = speed, y= power\n",
    "x = dfpower.iloc[:,[0]]\n",
    "y = dfpower.iloc[:,[1]]\n",
    "\n",
    "# plot each (x,y) sample on graph.\n",
    "plt.style.use(\"ggplot\")\n",
    "plt.rcParams[\"figure.figsize\"] = (18,10)\n",
    "plt.title(\"Wind Turbine Power\")\n",
    "plt.xlabel(\"Speed\")\n",
    "plt.ylabel(\"Power\")\n",
    "plt.plot(x, y, '.')"
   ]
  },
  {
   "cell_type": "markdown",
   "metadata": {},
   "source": [
    "\n",
    "\n",
    "\n",
    "### USING SKLEARN LINEARREGRESSION TO FIND THE RELATIONSHIP BETWEEN X & Y - Objective 1"
   ]
  },
  {
   "cell_type": "code",
   "execution_count": null,
   "metadata": {},
   "outputs": [],
   "source": [
    "# import library\n",
    "from sklearn.linear_model import LinearRegression\n",
    "\n",
    "# x = speed and y = power from the dataframe dfpower\n",
    "x = dfpower.iloc[:,[0]]\n",
    "y = dfpower.iloc[:,[1]]\n",
    "\n",
    "# create the variable model as the instance of LinearRegression\n",
    "model=LinearRegression()\n",
    "\n",
    "# call .fit on the model which calculates the optimal values of the \n",
    "# weights bo (the intercept of the y axis) and b1 (slope of the estimated\n",
    "# regression line)\n",
    "model.fit(x,y)\n",
    "\n",
    "# r_sq is the proportion of the variance for a dependent variable that may\n",
    "# be explained by the influence of independent variable(s)\n",
    "# calling .score returns the coefficient of determination (r_sq)\n",
    "r_sq = model.score(x,y)\n",
    "\n",
    "# the closer the coefficient of determination is to 1 the better the fit,\n",
    "# because it indicates the sum of squared residuals (SSR) is 0 which is perfect. \n",
    "print(\"coefficient of determination:\", r_sq)\n",
    "\n",
    "# .intercept is the intercept of y axis, bo\n",
    "print(\"intercept:\", model.intercept_)\n",
    "\n",
    "# .coef is the slope of regression line, b1.\n",
    "print(\"slope:\", model.coef_)"
   ]
  },
  {
   "cell_type": "code",
   "execution_count": null,
   "metadata": {},
   "outputs": [],
   "source": [
    "# We can now use the y intercept and the slope multiplied by each value\n",
    "# of x in turn to predict y (y_pred), this is basically the equation of the line.\n",
    "\n",
    "y_pred = model.intercept_+ model.coef_ * x\n",
    "print(\"predicted response:\",y_pred)"
   ]
  },
  {
   "cell_type": "code",
   "execution_count": null,
   "metadata": {},
   "outputs": [],
   "source": [
    "\n",
    "# Plot outputs of the x and y values as red dots and the x and y_pred\n",
    "# as a blue line.\n",
    "plt.scatter(x, y,  color='red')\n",
    "plt.plot(x, y_pred, color='blue', linewidth=3)\n",
    "\n",
    "plt.title(\"Linear Regression on Wind Speed and Turbine Power\")\n",
    "plt.xlabel(\"Speed\")\n",
    "plt.ylabel(\"Power\")\n",
    "\n",
    "plt.show()"
   ]
  },
  {
   "cell_type": "markdown",
   "metadata": {},
   "source": [
    "\n",
    "\n",
    "\n",
    "### USING POLYFIT TO FIND THE RELATIONSHIP BETWEEN X & Y - Objective 1 (Method 2)"
   ]
  },
  {
   "cell_type": "code",
   "execution_count": null,
   "metadata": {},
   "outputs": [],
   "source": [
    "# Using polyfit to find the relationship between the x and y variables\n",
    "import numpy as np\n",
    "\n",
    "# polyfit expects x to be a 1D vector, convert x to an np.array called speed_data_array.\n",
    "speed_data = dfpower[\"speed\"]\n",
    "print(\"Original List:\", speed_data)\n",
    "\n",
    "speed_data_array = np.array(speed_data)\n",
    "print(\"One-dimensional NumPy array: \", speed_data_array)\n",
    "\n",
    "# this will return an array which includes the coefficients; aka the intercept of y axis, bo and\n",
    "# the slope of regression line, b1.  These are the same figures as I produced using LinearRegression.\n",
    "np.polyfit(speed_data_array,y,1)\n"
   ]
  },
  {
   "cell_type": "code",
   "execution_count": null,
   "metadata": {},
   "outputs": [],
   "source": [
    "# this will return an array which includes the coefficients; aka the intercept of y axis, bo and\n",
    "# the slope of regression line, b1.  These are the same figures as I produced using LinearRegression.\n",
    "coeffs = np.polyfit(speed_data_array,y,1)\n",
    "\n",
    "# This plots the original data\n",
    "plt.plot(speed_data_array,y,\".\", label=\"Data\")\n",
    "\n",
    "# This plots the original data\n",
    "plt.plot(speed_data_array, coeffs[0]*speed_data_array+coeffs[1], \"-\",\"Bestfit\")\n",
    "\n",
    "# Again the plot is the same as the one produced using LinearRegression."
   ]
  },
  {
   "cell_type": "code",
   "execution_count": null,
   "metadata": {},
   "outputs": [],
   "source": [
    "# Calculating the cost of the line\n",
    "# Cost(m,c)= Σ(yi - mxi-c)² where m is the slope and c is the constant\n",
    "# This is the same idea as polyfit and produces the same results.\n",
    "\n",
    "# To use this method I have had to take the values of x(speed) and y(power) out of the dataframe and use\n",
    "# them as an array\n",
    "x_avg = np.mean(dfpower[\"speed\"])\n",
    "y_avg = np.mean(dfpower[\"power\"])\n",
    "\n",
    "# subtract the means from speed (x) and power (y)\n",
    "x_zero = dfpower[\"speed\"] - x_avg\n",
    "\n",
    "y_zero = dfpower[\"power\"] - y_avg\n",
    "\n",
    "\n",
    "# to calculate the best m (slope)\n",
    "m = np.sum(x_zero * y_zero) / np.sum(x_zero * x_zero)\n",
    "\n",
    "# to calculate the best c (y intercept)\n",
    "c = y_avg - m * x_avg\n",
    "\n",
    "print(\"m is %8.6f and c is %6.6f.\" % (m,c))\n"
   ]
  },
  {
   "cell_type": "markdown",
   "metadata": {},
   "source": [
    "\n",
    "\n",
    "### INTERPRETING THE DATA - Objective 2"
   ]
  },
  {
   "cell_type": "markdown",
   "metadata": {},
   "source": [
    "\n",
    "#### Three tests to find the correlation coefficient between speed and power."
   ]
  },
  {
   "cell_type": "code",
   "execution_count": null,
   "metadata": {},
   "outputs": [],
   "source": [
    "# The Pearson correlation coefficient measures the linear relationship\n",
    "# between two datasets.  Positive correlations imply that as x increases\n",
    "# so does y, negative correlations imply that if x increases, y decreases.\n",
    "\n",
    "import numpy as np \n",
    "import scipy.stats\n",
    "\n",
    "# Changing the speed (x) value from dataframe to array.\n",
    "speed_data = dfpower[\"speed\"]\n",
    "speed_data_array = np.array(speed_data)\n",
    "\n",
    "# Changing the power (y) value from dataframe to array.\n",
    "power_data = dfpower[\"power\"]\n",
    "power_data_array = np.array(power_data)\n",
    "\n",
    "scipy.stats.pearsonr(speed_data_array,power_data_array)\n",
    "\n",
    "# The first value is Pearson's r, this value implies a strong\n",
    "# positive correlation between wind speed and turbine power output.\n",
    "# The second value is the p-value which is used to test a hypothesis."
   ]
  },
  {
   "cell_type": "code",
   "execution_count": null,
   "metadata": {},
   "outputs": [],
   "source": [
    "# The Spearman correlation coefficient measures the linear relationship\n",
    "# between two datasets.  Positive correlations imply that as x increases\n",
    "# so does y, negative correlations imply that if x increases, y decreases.\n",
    "\n",
    "scipy.stats.spearmanr(speed_data_array,power_data_array)\n",
    "\n",
    "# The first value is Spearman's rho, this value implies a strong\n",
    "# positive correlation between wind speed and turbine power output.\n",
    "# The second value is the p-value which is used to test a hypothesis."
   ]
  },
  {
   "cell_type": "code",
   "execution_count": null,
   "metadata": {},
   "outputs": [],
   "source": [
    "# The Kendall correlation coefficient measures the linear relationship\n",
    "# between two datasets.  Positive correlations imply that as x increases\n",
    "# so does y, negative correlations imply that if x increases, y decreases.\n",
    "\n",
    "scipy.stats.kendalltau(speed_data_array,power_data_array)\n",
    "\n",
    "# The first value is Kendall's tau, this value implies a strong\n",
    "# positive correlation between wind speed and turbine power output.\n",
    "# The second value is the p-value which is used to test a hypothesis."
   ]
  },
  {
   "cell_type": "markdown",
   "metadata": {},
   "source": [
    "##### There is a high correlation coefficient between wind speed, x, and power production, y.\n",
    "The values range from 0.73 on the Kendall tau to the highest correlation 0.85 on\n",
    "the Pearson's r.\n"
   ]
  },
  {
   "cell_type": "markdown",
   "metadata": {},
   "source": [
    "Source  https://enerpower.ie/portfolio/wind-turbine-faq-ireland/\n",
    "    \n",
    "How strong does the wind have to blow for the wind turbines to work?\n",
    "\n",
    "\"Wind turbines typically start operating at wind speeds around Beaufort Force 3 \n",
    "(which is around 3-5 metres per second (m/s), or 8-12 miles per hour (mph). \n",
    "Turbines reach maximum power output at Beaufort 5 (around 11-14 m/s or 25-30 mph). \n",
    "At very high wind speeds, i.e. Beaufort Storm Force 10 winds, (around 24 m/s or 55 mph) \n",
    "or greater the wind turbines shut down to prevent excessive wear and tear. \n",
    "Since winds of this strength occur only for a handful of hours per year, \n",
    "very little energy is lost in high wind periods.\"\n",
    " \n",
    "The information contained in this faq, from a wind energy company Enerpower, shows us how to interpret\n",
    "our plot.  The illustrated data shows that no power is produced until the wind speed reaches \n",
    "8 mph, at 20-25 mph it has reached peak production and levels off.  Winds above 20 mph on our plot seem\n",
    "to indicate the best speed for producing power.  Higher wind speeds do not produce more power.  As the faq\n",
    "from Enerpower indicate, a turbine will turn itself off in storm force winds.\n",
    " \n",
    "Having analysed this data we have the following information to help predict a y value from an x value.\n",
    " \n",
    "coefficient of determination: 0.7289360258564073\n",
    "intercept: 13.89990263\n",
    "slope: 4.91759567\n",
    "Pearson's r = 0.8537775037188595 \n",
    "\n",
    "\n"
   ]
  },
  {
   "cell_type": "markdown",
   "metadata": {},
   "source": [
    "\n",
    "\n",
    "\n",
    "### PREDICT WIND TURBINE POWER OUTPUT FROM WIND SPEED VALUES - Objective 3"
   ]
  },
  {
   "cell_type": "code",
   "execution_count": null,
   "metadata": {},
   "outputs": [],
   "source": [
    "# Using the equation of the line to predict y for 10 selected values of x.\n",
    "# y1 = mx1 + c, if x1 = 2, find y.\n",
    "# x = speed, y = power.\n",
    "\n",
    "x1 = [2.0, 4.0, 6.0, 8.0, 10.0, 12.0, 14.0, 16.0, 18.0, 20.0]\n",
    "y1 = [4.91759567 * i - 13.89990267 for i in x1]\n",
    "\n",
    "print(x1)\n",
    "print(y1)\n"
   ]
  },
  {
   "cell_type": "code",
   "execution_count": null,
   "metadata": {},
   "outputs": [],
   "source": [
    "# Plot the selected points.\n",
    "\n",
    "import matplotlib.pyplot as plt\n",
    "\n",
    "plt.style.use(\"ggplot\")\n",
    "plt.rcParams[\"figure.figsize\"] = (18,10)\n",
    "plt.title(\"Wind Turbine Power\")\n",
    "plt.xlabel(\"Speed\")\n",
    "plt.ylabel(\"Power\")\n",
    "plt.plot(x1, y1, 'o')\n",
    "\n",
    "\n",
    "# The plot shows the positive correlation between values of x1,\n",
    "# the sample of speed variables and y1, the sample of turbine power output."
   ]
  },
  {
   "cell_type": "markdown",
   "metadata": {},
   "source": [
    "The arrangement of the points shows a positive correlation but it\n",
    "must also take into account that there is a horizontal section before\n",
    "0-7mph and after 20mph.  There must be a windspeed of 7+ for power to be\n",
    "produced and speeds over 20mph do not produce more power."
   ]
  },
  {
   "cell_type": "code",
   "execution_count": null,
   "metadata": {},
   "outputs": [],
   "source": [
    "# See if Polynomial Regression produces a better correlation between speed and power.\n",
    "\n",
    "# x = speed, y= power\n",
    "x = dfpower.iloc[:,[0]]\n",
    "y = dfpower.iloc[:,[1]]\n",
    "\n",
    "# plot each (x,y) sample on graph.\n",
    "plt.style.use(\"ggplot\")\n",
    "plt.rcParams[\"figure.figsize\"] = (18,10)\n",
    "plt.title(\"Wind Turbine Power\")\n",
    "plt.xlabel(\"Speed\")\n",
    "plt.ylabel(\"Power\")\n",
    "plt.plot(x, y, '.')\n",
    "\n",
    "# Draw the line of polynomial regression using the 1D values for speed an power.\n",
    "import numpy as np\n",
    "\n",
    "# Use the numpy method to make a polynomial regression model.\n",
    "mymodel = np.poly1d(np.polyfit(speed_data_array, power_data_array, 3))\n",
    "\n",
    "# plot 500 points in the sample from the first x value, 0, to the last x value, 25.\n",
    "myline = np.linspace(0, 25, 500)\n",
    "\n",
    "# plot the data showing the sample and the polynomial line of regression.\n",
    "plt.scatter(speed_data_array, power_data_array)\n",
    "plt.plot(myline, mymodel(myline))\n",
    "plt.show() "
   ]
  },
  {
   "cell_type": "code",
   "execution_count": null,
   "metadata": {},
   "outputs": [],
   "source": [
    "# Calculate the coefficient of determination of the data.\n",
    "import numpy as np\n",
    "from sklearn.metrics import r2_score\n",
    "\n",
    "# use the polyfit method to find the coefficient of determination or R².\n",
    "\n",
    "mymodel = np.poly1d(np.polyfit(speed_data_array, power_data_array, 3))\n",
    "\n",
    "print(r2_score(power_data_array, mymodel(speed_data_array)))"
   ]
  },
  {
   "cell_type": "markdown",
   "metadata": {},
   "source": [
    "##### R²\n",
    "\n",
    "In a sample of 500 elements where the wind speed (x with values from 0 to 25) produces a power output (y) the y variable is \n",
    "dependent on the x variable.\n",
    "Using the Linear Regression model I found the coefficient of determination to be 0.7289360258564073, this shows a high\n",
    "positive correlation.\n",
    "Using the Polynomial Regression model I found the coefficient of determination to be 0.8796883953739737, this indicates\n",
    "that polynomial regression modelling is more effective as it shows a higher correlation between x and y.\n",
    "The coefficient of determination or R² is the proportion of the variance for a dependent variable that may\n",
    "be explained by the influence of independent variable(s).  The closer the coefficient of determination is to 1 the better the fit,\n",
    "because it indicates the sum of squared residuals (SSR) is 0 which is perfect. \n",
    "\n",
    "We know from the outset that the variables have a close correlation because no one would pay the huge cost of turbines if \n",
    "they did not produce power but my research was to establish the relationship between the two and to plot and test that \n",
    "relationship.\n",
    "\n",
    "##### Results\n",
    "1. Established a relationship between wind speed and power output using LinearRegression and Polyfit.\n",
    "2. Explained the purpose of Linear Regression and what my data shows.\n",
    "3. Used values of x to predict values of y.\n",
    "4. Created a Polynomial Regression model to show that this is a better method of analysing the data."
   ]
  }
 ],
 "metadata": {
  "kernelspec": {
   "display_name": "Python 3",
   "language": "python",
   "name": "python3"
  },
  "language_info": {
   "codemirror_mode": {
    "name": "ipython",
    "version": 3
   },
   "file_extension": ".py",
   "mimetype": "text/x-python",
   "name": "python",
   "nbconvert_exporter": "python",
   "pygments_lexer": "ipython3",
   "version": "3.8.3"
  }
 },
 "nbformat": 4,
 "nbformat_minor": 4
}
